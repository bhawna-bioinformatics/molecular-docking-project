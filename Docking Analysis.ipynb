{
 "cells": [
  {
   "cell_type": "markdown",
   "id": "630835c4-55b3-4cd9-9770-c62da838a108",
   "metadata": {},
   "source": [
    "# Molecular Docking Mini-Project\n",
    "> Target Protein: SARS-CoV-2 Main Protease (PDB ID: 6LU7)\n",
    "> Tools Used: Python, RDKit, Biopython, NGLView\n",
    "> Goal: Visualize protein-ligand interaction and analyze molecular properties of natural compounds using Jupyter Notebook.\n"
   ]
  },
  {
   "cell_type": "markdown",
   "id": "4f1030fb-63e1-4ac2-96a4-db815a402d74",
   "metadata": {},
   "source": [
    "# 📚 Table of Contents\n",
    "1. Introduction\n",
    "2. Installation Instructions\n",
    "3. Protein Visualization\n",
    "4. Ligand Analysis\n",
    "5. Docking Score Plot\n",
    "6. Conclusion"
   ]
  },
  {
   "cell_type": "markdown",
   "id": "5f35d579-9b9e-4da1-b592-ebe7b7c81c5d",
   "metadata": {},
   "source": [
    "\n",
    "# ## 1. Introduction\n",
    "# This project simulates the early stages of a drug discovery pipeline:\n",
    "- Load and visualize a protein structure (6LU7)\n",
    "- Analyze ligands (quercetin and others) for drug-like properties\n",
    "- Simulate docking score data and visualize it\n",
    "- Practice using cheminformatics tools within a Jupyter notebook"
   ]
  },
  {
   "cell_type": "markdown",
   "id": "488b1d6e-97ed-468e-889b-a0b489400ea8",
   "metadata": {},
   "source": [
    "# Import Libraries "
   ]
  },
  {
   "cell_type": "code",
   "execution_count": 2,
   "id": "4e49b530-1c91-480b-b4ae-eac282d3a917",
   "metadata": {},
   "outputs": [],
   "source": [
    "import pandas as pd\n",
    "import matplotlib.pyplot as plt\n",
    "from Bio.PDB import PDBParser"
   ]
  },
  {
   "cell_type": "markdown",
   "id": "f16f71a5-b409-4c2e-9d81-954d34d62c54",
   "metadata": {},
   "source": [
    "# Load Protein Structure"
   ]
  },
  {
   "cell_type": "code",
   "execution_count": 3,
   "id": "2d4d7c57-9347-458c-abeb-fbc5dd3eb970",
   "metadata": {},
   "outputs": [
    {
     "name": "stdout",
     "output_type": "stream",
     "text": [
      "Defaulting to user installation because normal site-packages is not writeable\n",
      "Requirement already satisfied: nglview in c:\\users\\aaaa\\appdata\\roaming\\python\\python312\\site-packages (3.1.4)\n",
      "Requirement already satisfied: ipywidgets>=8 in c:\\users\\aaaa\\appdata\\roaming\\python\\python312\\site-packages (from nglview) (8.1.7)\n",
      "Requirement already satisfied: notebook>=7 in c:\\programdata\\anaconda3\\lib\\site-packages (from nglview) (7.2.2)\n",
      "Requirement already satisfied: jupyterlab>=3 in c:\\programdata\\anaconda3\\lib\\site-packages (from nglview) (4.2.5)\n",
      "Requirement already satisfied: jupyterlab_widgets in c:\\users\\aaaa\\appdata\\roaming\\python\\python312\\site-packages (from nglview) (3.0.15)\n",
      "Requirement already satisfied: numpy in c:\\programdata\\anaconda3\\lib\\site-packages (from nglview) (1.26.4)\n",
      "Requirement already satisfied: comm>=0.1.3 in c:\\programdata\\anaconda3\\lib\\site-packages (from ipywidgets>=8->nglview) (0.2.1)\n",
      "Requirement already satisfied: ipython>=6.1.0 in c:\\programdata\\anaconda3\\lib\\site-packages (from ipywidgets>=8->nglview) (8.27.0)\n",
      "Requirement already satisfied: traitlets>=4.3.1 in c:\\programdata\\anaconda3\\lib\\site-packages (from ipywidgets>=8->nglview) (5.14.3)\n",
      "Requirement already satisfied: widgetsnbextension~=4.0.14 in c:\\users\\aaaa\\appdata\\roaming\\python\\python312\\site-packages (from ipywidgets>=8->nglview) (4.0.14)\n",
      "Requirement already satisfied: async-lru>=1.0.0 in c:\\programdata\\anaconda3\\lib\\site-packages (from jupyterlab>=3->nglview) (2.0.4)\n",
      "Requirement already satisfied: httpx>=0.25.0 in c:\\programdata\\anaconda3\\lib\\site-packages (from jupyterlab>=3->nglview) (0.27.0)\n",
      "Requirement already satisfied: ipykernel>=6.5.0 in c:\\programdata\\anaconda3\\lib\\site-packages (from jupyterlab>=3->nglview) (6.28.0)\n",
      "Requirement already satisfied: jinja2>=3.0.3 in c:\\programdata\\anaconda3\\lib\\site-packages (from jupyterlab>=3->nglview) (3.1.4)\n",
      "Requirement already satisfied: jupyter-core in c:\\programdata\\anaconda3\\lib\\site-packages (from jupyterlab>=3->nglview) (5.7.2)\n",
      "Requirement already satisfied: jupyter-lsp>=2.0.0 in c:\\programdata\\anaconda3\\lib\\site-packages (from jupyterlab>=3->nglview) (2.2.0)\n",
      "Requirement already satisfied: jupyter-server<3,>=2.4.0 in c:\\programdata\\anaconda3\\lib\\site-packages (from jupyterlab>=3->nglview) (2.14.1)\n",
      "Requirement already satisfied: jupyterlab-server<3,>=2.27.1 in c:\\programdata\\anaconda3\\lib\\site-packages (from jupyterlab>=3->nglview) (2.27.3)\n",
      "Requirement already satisfied: notebook-shim>=0.2 in c:\\programdata\\anaconda3\\lib\\site-packages (from jupyterlab>=3->nglview) (0.2.3)\n",
      "Requirement already satisfied: packaging in c:\\programdata\\anaconda3\\lib\\site-packages (from jupyterlab>=3->nglview) (24.1)\n",
      "Requirement already satisfied: setuptools>=40.1.0 in c:\\programdata\\anaconda3\\lib\\site-packages (from jupyterlab>=3->nglview) (75.1.0)\n",
      "Requirement already satisfied: tornado>=6.2.0 in c:\\programdata\\anaconda3\\lib\\site-packages (from jupyterlab>=3->nglview) (6.4.1)\n",
      "Requirement already satisfied: anyio in c:\\programdata\\anaconda3\\lib\\site-packages (from httpx>=0.25.0->jupyterlab>=3->nglview) (4.2.0)\n",
      "Requirement already satisfied: certifi in c:\\programdata\\anaconda3\\lib\\site-packages (from httpx>=0.25.0->jupyterlab>=3->nglview) (2025.4.26)\n",
      "Requirement already satisfied: httpcore==1.* in c:\\programdata\\anaconda3\\lib\\site-packages (from httpx>=0.25.0->jupyterlab>=3->nglview) (1.0.2)\n",
      "Requirement already satisfied: idna in c:\\programdata\\anaconda3\\lib\\site-packages (from httpx>=0.25.0->jupyterlab>=3->nglview) (3.7)\n",
      "Requirement already satisfied: sniffio in c:\\programdata\\anaconda3\\lib\\site-packages (from httpx>=0.25.0->jupyterlab>=3->nglview) (1.3.0)\n",
      "Requirement already satisfied: h11<0.15,>=0.13 in c:\\programdata\\anaconda3\\lib\\site-packages (from httpcore==1.*->httpx>=0.25.0->jupyterlab>=3->nglview) (0.14.0)\n",
      "Requirement already satisfied: debugpy>=1.6.5 in c:\\programdata\\anaconda3\\lib\\site-packages (from ipykernel>=6.5.0->jupyterlab>=3->nglview) (1.6.7)\n",
      "Requirement already satisfied: jupyter-client>=6.1.12 in c:\\programdata\\anaconda3\\lib\\site-packages (from ipykernel>=6.5.0->jupyterlab>=3->nglview) (8.6.0)\n",
      "Requirement already satisfied: matplotlib-inline>=0.1 in c:\\programdata\\anaconda3\\lib\\site-packages (from ipykernel>=6.5.0->jupyterlab>=3->nglview) (0.1.6)\n",
      "Requirement already satisfied: nest-asyncio in c:\\programdata\\anaconda3\\lib\\site-packages (from ipykernel>=6.5.0->jupyterlab>=3->nglview) (1.6.0)\n",
      "Requirement already satisfied: psutil in c:\\programdata\\anaconda3\\lib\\site-packages (from ipykernel>=6.5.0->jupyterlab>=3->nglview) (5.9.0)\n",
      "Requirement already satisfied: pyzmq>=24 in c:\\programdata\\anaconda3\\lib\\site-packages (from ipykernel>=6.5.0->jupyterlab>=3->nglview) (25.1.2)\n",
      "Requirement already satisfied: decorator in c:\\programdata\\anaconda3\\lib\\site-packages (from ipython>=6.1.0->ipywidgets>=8->nglview) (5.1.1)\n",
      "Requirement already satisfied: jedi>=0.16 in c:\\programdata\\anaconda3\\lib\\site-packages (from ipython>=6.1.0->ipywidgets>=8->nglview) (0.19.1)\n",
      "Requirement already satisfied: prompt-toolkit<3.1.0,>=3.0.41 in c:\\programdata\\anaconda3\\lib\\site-packages (from ipython>=6.1.0->ipywidgets>=8->nglview) (3.0.43)\n",
      "Requirement already satisfied: pygments>=2.4.0 in c:\\programdata\\anaconda3\\lib\\site-packages (from ipython>=6.1.0->ipywidgets>=8->nglview) (2.15.1)\n",
      "Requirement already satisfied: stack-data in c:\\programdata\\anaconda3\\lib\\site-packages (from ipython>=6.1.0->ipywidgets>=8->nglview) (0.2.0)\n",
      "Requirement already satisfied: colorama in c:\\programdata\\anaconda3\\lib\\site-packages (from ipython>=6.1.0->ipywidgets>=8->nglview) (0.4.6)\n",
      "Requirement already satisfied: MarkupSafe>=2.0 in c:\\programdata\\anaconda3\\lib\\site-packages (from jinja2>=3.0.3->jupyterlab>=3->nglview) (2.1.3)\n",
      "Requirement already satisfied: platformdirs>=2.5 in c:\\programdata\\anaconda3\\lib\\site-packages (from jupyter-core->jupyterlab>=3->nglview) (3.10.0)\n",
      "Requirement already satisfied: pywin32>=300 in c:\\programdata\\anaconda3\\lib\\site-packages (from jupyter-core->jupyterlab>=3->nglview) (305.1)\n",
      "Requirement already satisfied: argon2-cffi>=21.1 in c:\\programdata\\anaconda3\\lib\\site-packages (from jupyter-server<3,>=2.4.0->jupyterlab>=3->nglview) (21.3.0)\n",
      "Requirement already satisfied: jupyter-events>=0.9.0 in c:\\programdata\\anaconda3\\lib\\site-packages (from jupyter-server<3,>=2.4.0->jupyterlab>=3->nglview) (0.10.0)\n",
      "Requirement already satisfied: jupyter-server-terminals>=0.4.4 in c:\\programdata\\anaconda3\\lib\\site-packages (from jupyter-server<3,>=2.4.0->jupyterlab>=3->nglview) (0.4.4)\n",
      "Requirement already satisfied: nbconvert>=6.4.4 in c:\\programdata\\anaconda3\\lib\\site-packages (from jupyter-server<3,>=2.4.0->jupyterlab>=3->nglview) (7.16.4)\n",
      "Requirement already satisfied: nbformat>=5.3.0 in c:\\programdata\\anaconda3\\lib\\site-packages (from jupyter-server<3,>=2.4.0->jupyterlab>=3->nglview) (5.10.4)\n",
      "Requirement already satisfied: overrides>=5.0 in c:\\programdata\\anaconda3\\lib\\site-packages (from jupyter-server<3,>=2.4.0->jupyterlab>=3->nglview) (7.4.0)\n",
      "Requirement already satisfied: prometheus-client>=0.9 in c:\\programdata\\anaconda3\\lib\\site-packages (from jupyter-server<3,>=2.4.0->jupyterlab>=3->nglview) (0.14.1)\n",
      "Requirement already satisfied: pywinpty>=2.0.1 in c:\\programdata\\anaconda3\\lib\\site-packages (from jupyter-server<3,>=2.4.0->jupyterlab>=3->nglview) (2.0.10)\n",
      "Requirement already satisfied: send2trash>=1.8.2 in c:\\programdata\\anaconda3\\lib\\site-packages (from jupyter-server<3,>=2.4.0->jupyterlab>=3->nglview) (1.8.2)\n",
      "Requirement already satisfied: terminado>=0.8.3 in c:\\programdata\\anaconda3\\lib\\site-packages (from jupyter-server<3,>=2.4.0->jupyterlab>=3->nglview) (0.17.1)\n",
      "Requirement already satisfied: websocket-client>=1.7 in c:\\programdata\\anaconda3\\lib\\site-packages (from jupyter-server<3,>=2.4.0->jupyterlab>=3->nglview) (1.8.0)\n",
      "Requirement already satisfied: babel>=2.10 in c:\\programdata\\anaconda3\\lib\\site-packages (from jupyterlab-server<3,>=2.27.1->jupyterlab>=3->nglview) (2.11.0)\n",
      "Requirement already satisfied: json5>=0.9.0 in c:\\programdata\\anaconda3\\lib\\site-packages (from jupyterlab-server<3,>=2.27.1->jupyterlab>=3->nglview) (0.9.6)\n",
      "Requirement already satisfied: jsonschema>=4.18.0 in c:\\programdata\\anaconda3\\lib\\site-packages (from jupyterlab-server<3,>=2.27.1->jupyterlab>=3->nglview) (4.23.0)\n",
      "Requirement already satisfied: requests>=2.31 in c:\\programdata\\anaconda3\\lib\\site-packages (from jupyterlab-server<3,>=2.27.1->jupyterlab>=3->nglview) (2.32.3)\n",
      "Requirement already satisfied: argon2-cffi-bindings in c:\\programdata\\anaconda3\\lib\\site-packages (from argon2-cffi>=21.1->jupyter-server<3,>=2.4.0->jupyterlab>=3->nglview) (21.2.0)\n",
      "Requirement already satisfied: pytz>=2015.7 in c:\\programdata\\anaconda3\\lib\\site-packages (from babel>=2.10->jupyterlab-server<3,>=2.27.1->jupyterlab>=3->nglview) (2024.1)\n",
      "Requirement already satisfied: parso<0.9.0,>=0.8.3 in c:\\programdata\\anaconda3\\lib\\site-packages (from jedi>=0.16->ipython>=6.1.0->ipywidgets>=8->nglview) (0.8.3)\n",
      "Requirement already satisfied: attrs>=22.2.0 in c:\\programdata\\anaconda3\\lib\\site-packages (from jsonschema>=4.18.0->jupyterlab-server<3,>=2.27.1->jupyterlab>=3->nglview) (23.1.0)\n",
      "Requirement already satisfied: jsonschema-specifications>=2023.03.6 in c:\\programdata\\anaconda3\\lib\\site-packages (from jsonschema>=4.18.0->jupyterlab-server<3,>=2.27.1->jupyterlab>=3->nglview) (2023.7.1)\n",
      "Requirement already satisfied: referencing>=0.28.4 in c:\\programdata\\anaconda3\\lib\\site-packages (from jsonschema>=4.18.0->jupyterlab-server<3,>=2.27.1->jupyterlab>=3->nglview) (0.30.2)\n",
      "Requirement already satisfied: rpds-py>=0.7.1 in c:\\programdata\\anaconda3\\lib\\site-packages (from jsonschema>=4.18.0->jupyterlab-server<3,>=2.27.1->jupyterlab>=3->nglview) (0.10.6)\n",
      "Requirement already satisfied: python-dateutil>=2.8.2 in c:\\programdata\\anaconda3\\lib\\site-packages (from jupyter-client>=6.1.12->ipykernel>=6.5.0->jupyterlab>=3->nglview) (2.9.0.post0)\n",
      "Requirement already satisfied: python-json-logger>=2.0.4 in c:\\programdata\\anaconda3\\lib\\site-packages (from jupyter-events>=0.9.0->jupyter-server<3,>=2.4.0->jupyterlab>=3->nglview) (2.0.7)\n",
      "Requirement already satisfied: pyyaml>=5.3 in c:\\programdata\\anaconda3\\lib\\site-packages (from jupyter-events>=0.9.0->jupyter-server<3,>=2.4.0->jupyterlab>=3->nglview) (6.0.1)\n",
      "Requirement already satisfied: rfc3339-validator in c:\\programdata\\anaconda3\\lib\\site-packages (from jupyter-events>=0.9.0->jupyter-server<3,>=2.4.0->jupyterlab>=3->nglview) (0.1.4)\n",
      "Requirement already satisfied: rfc3986-validator>=0.1.1 in c:\\programdata\\anaconda3\\lib\\site-packages (from jupyter-events>=0.9.0->jupyter-server<3,>=2.4.0->jupyterlab>=3->nglview) (0.1.1)\n",
      "Requirement already satisfied: beautifulsoup4 in c:\\programdata\\anaconda3\\lib\\site-packages (from nbconvert>=6.4.4->jupyter-server<3,>=2.4.0->jupyterlab>=3->nglview) (4.12.3)\n",
      "Requirement already satisfied: bleach!=5.0.0 in c:\\programdata\\anaconda3\\lib\\site-packages (from nbconvert>=6.4.4->jupyter-server<3,>=2.4.0->jupyterlab>=3->nglview) (4.1.0)\n",
      "Requirement already satisfied: defusedxml in c:\\programdata\\anaconda3\\lib\\site-packages (from nbconvert>=6.4.4->jupyter-server<3,>=2.4.0->jupyterlab>=3->nglview) (0.7.1)\n",
      "Requirement already satisfied: jupyterlab-pygments in c:\\programdata\\anaconda3\\lib\\site-packages (from nbconvert>=6.4.4->jupyter-server<3,>=2.4.0->jupyterlab>=3->nglview) (0.1.2)\n",
      "Requirement already satisfied: mistune<4,>=2.0.3 in c:\\programdata\\anaconda3\\lib\\site-packages (from nbconvert>=6.4.4->jupyter-server<3,>=2.4.0->jupyterlab>=3->nglview) (2.0.4)\n",
      "Requirement already satisfied: nbclient>=0.5.0 in c:\\programdata\\anaconda3\\lib\\site-packages (from nbconvert>=6.4.4->jupyter-server<3,>=2.4.0->jupyterlab>=3->nglview) (0.8.0)\n",
      "Requirement already satisfied: pandocfilters>=1.4.1 in c:\\programdata\\anaconda3\\lib\\site-packages (from nbconvert>=6.4.4->jupyter-server<3,>=2.4.0->jupyterlab>=3->nglview) (1.5.0)\n",
      "Requirement already satisfied: tinycss2 in c:\\programdata\\anaconda3\\lib\\site-packages (from nbconvert>=6.4.4->jupyter-server<3,>=2.4.0->jupyterlab>=3->nglview) (1.2.1)\n",
      "Requirement already satisfied: fastjsonschema>=2.15 in c:\\programdata\\anaconda3\\lib\\site-packages (from nbformat>=5.3.0->jupyter-server<3,>=2.4.0->jupyterlab>=3->nglview) (2.16.2)\n",
      "Requirement already satisfied: wcwidth in c:\\programdata\\anaconda3\\lib\\site-packages (from prompt-toolkit<3.1.0,>=3.0.41->ipython>=6.1.0->ipywidgets>=8->nglview) (0.2.5)\n",
      "Requirement already satisfied: charset-normalizer<4,>=2 in c:\\programdata\\anaconda3\\lib\\site-packages (from requests>=2.31->jupyterlab-server<3,>=2.27.1->jupyterlab>=3->nglview) (3.3.2)\n",
      "Requirement already satisfied: urllib3<3,>=1.21.1 in c:\\programdata\\anaconda3\\lib\\site-packages (from requests>=2.31->jupyterlab-server<3,>=2.27.1->jupyterlab>=3->nglview) (2.2.3)\n",
      "Requirement already satisfied: executing in c:\\programdata\\anaconda3\\lib\\site-packages (from stack-data->ipython>=6.1.0->ipywidgets>=8->nglview) (0.8.3)\n",
      "Requirement already satisfied: asttokens in c:\\programdata\\anaconda3\\lib\\site-packages (from stack-data->ipython>=6.1.0->ipywidgets>=8->nglview) (2.0.5)\n",
      "Requirement already satisfied: pure-eval in c:\\programdata\\anaconda3\\lib\\site-packages (from stack-data->ipython>=6.1.0->ipywidgets>=8->nglview) (0.2.2)\n",
      "Requirement already satisfied: six>=1.9.0 in c:\\programdata\\anaconda3\\lib\\site-packages (from bleach!=5.0.0->nbconvert>=6.4.4->jupyter-server<3,>=2.4.0->jupyterlab>=3->nglview) (1.16.0)\n",
      "Requirement already satisfied: webencodings in c:\\programdata\\anaconda3\\lib\\site-packages (from bleach!=5.0.0->nbconvert>=6.4.4->jupyter-server<3,>=2.4.0->jupyterlab>=3->nglview) (0.5.1)\n",
      "Requirement already satisfied: fqdn in c:\\users\\aaaa\\appdata\\roaming\\python\\python312\\site-packages (from jsonschema[format-nongpl]>=4.18.0->jupyter-events>=0.9.0->jupyter-server<3,>=2.4.0->jupyterlab>=3->nglview) (1.5.1)\n",
      "Requirement already satisfied: isoduration in c:\\users\\aaaa\\appdata\\roaming\\python\\python312\\site-packages (from jsonschema[format-nongpl]>=4.18.0->jupyter-events>=0.9.0->jupyter-server<3,>=2.4.0->jupyterlab>=3->nglview) (20.11.0)\n",
      "Requirement already satisfied: jsonpointer>1.13 in c:\\programdata\\anaconda3\\lib\\site-packages (from jsonschema[format-nongpl]>=4.18.0->jupyter-events>=0.9.0->jupyter-server<3,>=2.4.0->jupyterlab>=3->nglview) (2.1)\n",
      "Requirement already satisfied: uri-template in c:\\users\\aaaa\\appdata\\roaming\\python\\python312\\site-packages (from jsonschema[format-nongpl]>=4.18.0->jupyter-events>=0.9.0->jupyter-server<3,>=2.4.0->jupyterlab>=3->nglview) (1.3.0)\n",
      "Requirement already satisfied: webcolors>=24.6.0 in c:\\users\\aaaa\\appdata\\roaming\\python\\python312\\site-packages (from jsonschema[format-nongpl]>=4.18.0->jupyter-events>=0.9.0->jupyter-server<3,>=2.4.0->jupyterlab>=3->nglview) (24.11.1)\n",
      "Requirement already satisfied: cffi>=1.0.1 in c:\\programdata\\anaconda3\\lib\\site-packages (from argon2-cffi-bindings->argon2-cffi>=21.1->jupyter-server<3,>=2.4.0->jupyterlab>=3->nglview) (1.17.1)\n",
      "Requirement already satisfied: soupsieve>1.2 in c:\\programdata\\anaconda3\\lib\\site-packages (from beautifulsoup4->nbconvert>=6.4.4->jupyter-server<3,>=2.4.0->jupyterlab>=3->nglview) (2.5)\n",
      "Requirement already satisfied: pycparser in c:\\programdata\\anaconda3\\lib\\site-packages (from cffi>=1.0.1->argon2-cffi-bindings->argon2-cffi>=21.1->jupyter-server<3,>=2.4.0->jupyterlab>=3->nglview) (2.21)\n",
      "Requirement already satisfied: arrow>=0.15.0 in c:\\programdata\\anaconda3\\lib\\site-packages (from isoduration->jsonschema[format-nongpl]>=4.18.0->jupyter-events>=0.9.0->jupyter-server<3,>=2.4.0->jupyterlab>=3->nglview) (1.2.3)\n"
     ]
    }
   ],
   "source": [
    "!pip install nglview"
   ]
  },
  {
   "cell_type": "code",
   "execution_count": 5,
   "id": "36ec4548-410f-4059-882c-055e143acdb7",
   "metadata": {},
   "outputs": [],
   "source": [
    "import nglview as nv"
   ]
  },
  {
   "cell_type": "code",
   "execution_count": 6,
   "id": "afcf6dfe-af8b-4f3c-8674-2c3e790705ca",
   "metadata": {},
   "outputs": [],
   "source": [
    "from rdkit import Chem"
   ]
  },
  {
   "cell_type": "code",
   "execution_count": 7,
   "id": "88de955e-1148-4814-9c61-f51a101183cf",
   "metadata": {},
   "outputs": [],
   "source": [
    "from rdkit.Chem import Descriptors, Draw"
   ]
  },
  {
   "cell_type": "code",
   "execution_count": 18,
   "id": "3e8baf55-c137-4c21-be59-788faf8c24f2",
   "metadata": {},
   "outputs": [
    {
     "name": "stdout",
     "output_type": "stream",
     "text": [
      "Downloaded 6LU7.pdb\n"
     ]
    }
   ],
   "source": [
    "import urllib.request\n",
    "\n",
    "url = \"https://files.rcsb.org/download/6LU7.pdb\"\n",
    "output_path = \"6LU7.pdb\"\n",
    "\n",
    "urllib.request.urlretrieve(url, output_path)\n",
    "print(\"Downloaded 6LU7.pdb\")"
   ]
  },
  {
   "cell_type": "code",
   "execution_count": 19,
   "id": "018f4519-ab54-4930-8b74-c7e99d04fe49",
   "metadata": {},
   "outputs": [
    {
     "name": "stdout",
     "output_type": "stream",
     "text": [
      "True\n"
     ]
    }
   ],
   "source": [
    "import os\n",
    "print(os.path.exists(\"6LU7.pdb\")) "
   ]
  },
  {
   "cell_type": "markdown",
   "id": "1270d4f3-9d2f-41eb-a8ce-695372e1f217",
   "metadata": {},
   "source": [
    "# Visualize Protein in 3D"
   ]
  },
  {
   "cell_type": "code",
   "execution_count": 23,
   "id": "bbe62842-de08-4b4d-aff9-581ddcf27981",
   "metadata": {},
   "outputs": [
    {
     "data": {
      "application/vnd.jupyter.widget-view+json": {
       "model_id": "3c2e5a8c474e44ef945e4047b3f98f7f",
       "version_major": 2,
       "version_minor": 0
      },
      "text/plain": [
       "NGLWidget()"
      ]
     },
     "metadata": {},
     "output_type": "display_data"
    }
   ],
   "source": [
    "view = nv.show_file(\"6LU7.pdb\")  \n",
    "view.clear_representations()\n",
    "view.add_cartoon(\"protein\")\n",
    "view.add_ball_and_stick(\"ligand\")\n",
    "view"
   ]
  },
  {
   "cell_type": "markdown",
   "id": "b913b93a-069f-42ef-975c-88c89ea5df54",
   "metadata": {},
   "source": [
    "# Load Ligands"
   ]
  },
  {
   "cell_type": "code",
   "execution_count": 25,
   "id": "7273e518-5ca6-4608-a3ea-3c59d71175e4",
   "metadata": {},
   "outputs": [
    {
     "name": "stdout",
     "output_type": "stream",
     "text": [
      "Downloaded ligands.sdf\n"
     ]
    }
   ],
   "source": [
    "import urllib.request\n",
    "\n",
    "url = \"https://files.rcsb.org/ligands/download/ATP_ideal.sdf\"\n",
    "output_path = \"ligands.sdf\"\n",
    "\n",
    "urllib.request.urlretrieve(url, output_path)\n",
    "print(\"Downloaded ligands.sdf\")"
   ]
  },
  {
   "cell_type": "code",
   "execution_count": 26,
   "id": "523a01f1-6adc-4cb7-bdbc-eb45f88cb16f",
   "metadata": {},
   "outputs": [
    {
     "name": "stdout",
     "output_type": "stream",
     "text": [
      "['.anaconda', '.conda', '.condarc', '.continuum', '.idlerc', '.ipynb_checkpoints', '.ipython', '.jupyter', '.matplotlib', '.python_history', '.spss', '.VirtualBox', '.vscode', '3D Objects', '6LU7.pdb', 'AppData', 'Application Data', 'Contacts', 'Cookies', 'Docking Analysis.ipynb', 'Documents', 'Downloads', 'Favorites', 'function.idle.py', 'GSE10072_series_matrix.txt.gz', 'IntelGraphicsProfiles', 'ligands.sdf', 'Links', 'Local Settings', 'miniconda3', 'My Documents', 'NetHood', 'New folder', 'NTUSER.DAT', 'ntuser.dat.LOG1', 'ntuser.dat.LOG2', 'NTUSER.DAT{53b39e80-18c4-11ea-a811-000d3aa4692b}.TM.blf', 'NTUSER.DAT{53b39e80-18c4-11ea-a811-000d3aa4692b}.TMContainer00000000000000000001.regtrans-ms', 'NTUSER.DAT{53b39e80-18c4-11ea-a811-000d3aa4692b}.TMContainer00000000000000000002.regtrans-ms', 'ntuser.ini', 'OneDrive', 'PrintHood', 'pycharm', 'PycharmProjects', 'Recent', 'Saved Games', 'Searches', 'SendTo', 'Start Menu', 'Templates', 'Untitled.ipynb', 'Untitled1.ipynb', 'Videos']\n"
     ]
    }
   ],
   "source": [
    "import os\n",
    "print(os.listdir())"
   ]
  },
  {
   "cell_type": "code",
   "execution_count": 27,
   "id": "998e7f2d-1121-477d-994e-263f00110e26",
   "metadata": {},
   "outputs": [],
   "source": [
    "supplier = Chem.SDMolSupplier('ligands.sdf')"
   ]
  },
  {
   "cell_type": "markdown",
   "id": "9dd70eb5-051b-45fa-8435-9b2800163213",
   "metadata": {},
   "source": [
    "# Convert to RDKit molecules"
   ]
  },
  {
   "cell_type": "code",
   "execution_count": 35,
   "id": "6a416666-593d-4fb6-934f-32002aa454ad",
   "metadata": {},
   "outputs": [],
   "source": [
    "from rdkit import Chem"
   ]
  },
  {
   "cell_type": "code",
   "execution_count": 36,
   "id": "078fc089-d230-41f5-a6a2-4afa6fe2cf2e",
   "metadata": {},
   "outputs": [],
   "source": [
    "from rdkit.Chem import Descriptors"
   ]
  },
  {
   "cell_type": "code",
   "execution_count": 29,
   "id": "854a5290-2e66-4830-8632-5eafe4e007d1",
   "metadata": {},
   "outputs": [],
   "source": [
    "from rdkit import RDLogger\n",
    "RDLogger.DisableLog('rdApp.*')"
   ]
  },
  {
   "cell_type": "code",
   "execution_count": 30,
   "id": "f1f25dbe-4b9c-427b-9577-3fa75bd78ff5",
   "metadata": {},
   "outputs": [],
   "source": [
    "molecules = []\n",
    "for mol in supplier:\n",
    "    if mol is not None:\n",
    "        molecules.append(mol)"
   ]
  },
  {
   "cell_type": "code",
   "execution_count": 38,
   "id": "43e44cc0-9db4-44d8-a786-135cd6d6a2ed",
   "metadata": {},
   "outputs": [],
   "source": [
    "data = []"
   ]
  },
  {
   "cell_type": "code",
   "execution_count": 37,
   "id": "ef72cf83-143e-429c-a98f-ed19fd6f3048",
   "metadata": {},
   "outputs": [
    {
     "name": "stdout",
     "output_type": "stream",
     "text": [
      "[]\n"
     ]
    }
   ],
   "source": [
    "print(data)"
   ]
  },
  {
   "cell_type": "code",
   "execution_count": 40,
   "id": "51a6fece-65b8-4a4d-bb4b-e19aaf822a02",
   "metadata": {},
   "outputs": [],
   "source": [
    "from rdkit import Chem\n",
    "from rdkit.Chem import Descriptors\n",
    "import pandas as pd"
   ]
  },
  {
   "cell_type": "code",
   "execution_count": 45,
   "id": "a693b27a-35c7-403d-b7b8-e277d0fc6513",
   "metadata": {},
   "outputs": [
    {
     "name": "stdout",
     "output_type": "stream",
     "text": [
      "[('Aspirin', 'CC(=O)OC1=CC=CC=C1C(=O)O'), ('Caffeine', 'Cn1cnc2c1c(=O)n(c(=O)n2C)C'), ('Ibuprofen', 'CC(C)CC1=CC=C(C=C1)C(C)C(=O)O')]\n"
     ]
    }
   ],
   "source": [
    "smiles_list = [\n",
    "    (\"Aspirin\", \"CC(=O)OC1=CC=CC=C1C(=O)O\"),\n",
    "    (\"Caffeine\", \"Cn1cnc2c1c(=O)n(c(=O)n2C)C\"),\n",
    "    (\"Ibuprofen\", \"CC(C)CC1=CC=C(C=C1)C(C)C(=O)O\")\n",
    "]\n",
    "print(smiles_list)"
   ]
  },
  {
   "cell_type": "code",
   "execution_count": 49,
   "id": "b1b0781a-a9b8-46ad-af61-5d86151d107d",
   "metadata": {},
   "outputs": [
    {
     "name": "stdout",
     "output_type": "stream",
     "text": [
      "Aspirin CC(=O)Oc1ccccc1C(=O)O\n",
      "Caffeine Cn1c(=O)c2c(ncn2C)n(C)c1=O\n",
      "Ibuprofen CC(C)Cc1ccc(C(C)C(=O)O)cc1\n"
     ]
    }
   ],
   "source": [
    "for mol in mols:\n",
    "    print(mol.GetProp(\"_Name\"), Chem.MolToSmiles(mol))"
   ]
  },
  {
   "cell_type": "code",
   "execution_count": 50,
   "id": "a5502404-fa32-4b64-8de9-ed7dc536544c",
   "metadata": {},
   "outputs": [
    {
     "data": {
      "image/png": "[encoded data removed]",
      "text/plain": [
       "<IPython.core.display.Image object>"
      ]
     },
     "execution_count": 50,
     "metadata": {},
     "output_type": "execute_result"
    }
   ],
   "source": [
    "from rdkit.Chem import Draw\n",
    "\n",
    "Draw.MolsToGridImage(mols, legends=[mol.GetProp(\"_Name\") for mol in mols])"
   ]
  },
  {
   "cell_type": "markdown",
   "id": "2f88be75-27ac-45fc-ba8f-a8c0f95968b2",
   "metadata": {},
   "source": [
    "# Calculate descriptors (properties)"
   ]
  },
  {
   "cell_type": "code",
   "execution_count": 51,
   "id": "0c195938-2d6c-432a-abb8-d34cc9700e22",
   "metadata": {},
   "outputs": [],
   "source": [
    "mols = []\n",
    "for name, smi in smiles_list:\n",
    "    mol = Chem.MolFromSmiles(smi)\n",
    "    mol.SetProp(\"_Name\", name)\n",
    "    mols.append(mol)"
   ]
  },
  {
   "cell_type": "code",
   "execution_count": 52,
   "id": "2652ff8d-5945-47d8-a972-81d1a3a0ebcb",
   "metadata": {},
   "outputs": [],
   "source": [
    "for mol in mols:\n",
    "    name = mol.GetProp('_Name')\n",
    "    mw = Descriptors.MolWt(mol)\n",
    "    logp = Descriptors.MolLogP(mol)\n",
    "    tpsa = Descriptors.TPSA(mol)\n",
    "    data.append([name, mw, logp, tpsa])"
   ]
  },
  {
   "cell_type": "code",
   "execution_count": 53,
   "id": "f1ee75f9-8740-4ff6-b790-9219af3dd9b3",
   "metadata": {},
   "outputs": [
    {
     "data": {
      "text/html": [
       "<div>\n",
       "<style scoped>\n",
       "    .dataframe tbody tr th:only-of-type {\n",
       "        vertical-align: middle;\n",
       "    }\n",
       "\n",
       "    .dataframe tbody tr th {\n",
       "        vertical-align: top;\n",
       "    }\n",
       "\n",
       "    .dataframe thead th {\n",
       "        text-align: right;\n",
       "    }\n",
       "</style>\n",
       "<table border=\"1\" class=\"dataframe\">\n",
       "  <thead>\n",
       "    <tr style=\"text-align: right;\">\n",
       "      <th></th>\n",
       "      <th>Ligand</th>\n",
       "      <th>MW</th>\n",
       "      <th>LogP</th>\n",
       "      <th>TPSA</th>\n",
       "    </tr>\n",
       "  </thead>\n",
       "  <tbody>\n",
       "    <tr>\n",
       "      <th>0</th>\n",
       "      <td>Aspirin</td>\n",
       "      <td>180.159</td>\n",
       "      <td>1.3101</td>\n",
       "      <td>63.60</td>\n",
       "    </tr>\n",
       "    <tr>\n",
       "      <th>1</th>\n",
       "      <td>Caffeine</td>\n",
       "      <td>194.194</td>\n",
       "      <td>-1.0293</td>\n",
       "      <td>61.82</td>\n",
       "    </tr>\n",
       "    <tr>\n",
       "      <th>2</th>\n",
       "      <td>Ibuprofen</td>\n",
       "      <td>206.285</td>\n",
       "      <td>3.0732</td>\n",
       "      <td>37.30</td>\n",
       "    </tr>\n",
       "    <tr>\n",
       "      <th>3</th>\n",
       "      <td>Aspirin</td>\n",
       "      <td>180.159</td>\n",
       "      <td>1.3101</td>\n",
       "      <td>63.60</td>\n",
       "    </tr>\n",
       "    <tr>\n",
       "      <th>4</th>\n",
       "      <td>Caffeine</td>\n",
       "      <td>194.194</td>\n",
       "      <td>-1.0293</td>\n",
       "      <td>61.82</td>\n",
       "    </tr>\n",
       "  </tbody>\n",
       "</table>\n",
       "</div>"
      ],
      "text/plain": [
       "      Ligand       MW    LogP   TPSA\n",
       "0    Aspirin  180.159  1.3101  63.60\n",
       "1   Caffeine  194.194 -1.0293  61.82\n",
       "2  Ibuprofen  206.285  3.0732  37.30\n",
       "3    Aspirin  180.159  1.3101  63.60\n",
       "4   Caffeine  194.194 -1.0293  61.82"
      ]
     },
     "execution_count": 53,
     "metadata": {},
     "output_type": "execute_result"
    }
   ],
   "source": [
    "df = pd.DataFrame(data, columns=[\"Ligand\", \"MW\", \"LogP\", \"TPSA\"])\n",
    "df.head()"
   ]
  },
  {
   "cell_type": "markdown",
   "id": "357569a6-0a66-4018-af44-c0646ff78569",
   "metadata": {},
   "source": [
    "Plot Ligand Properties"
   ]
  },
  {
   "cell_type": "code",
   "execution_count": 54,
   "id": "07b7cf99-d7ea-436c-ab3d-43cc1c544567",
   "metadata": {},
   "outputs": [
    {
     "data": {
      "image/png": "[encoded data removed]",
      "text/plain": [
       "<Figure size 1000x500 with 1 Axes>"
      ]
     },
     "metadata": {},
     "output_type": "display_data"
    }
   ],
   "source": [
    "plt.figure(figsize=(10,5))\n",
    "plt.bar(df[\"Ligand\"], df[\"LogP\"])\n",
    "plt.xticks(rotation=45)\n",
    "plt.title(\"LogP of Natural Compounds\")\n",
    "plt.ylabel(\"LogP\")\n",
    "plt.show()"
   ]
  },
  {
   "cell_type": "markdown",
   "id": "675da6b0-8a2f-4a99-b59e-51c1edf93d08",
   "metadata": {},
   "source": [
    "# Create mock docking scores and Save mock file"
   ]
  },
  {
   "cell_type": "code",
   "execution_count": 57,
   "id": "01ceed60-3e25-447d-a145-e0b64a7e7f1b",
   "metadata": {},
   "outputs": [
    {
     "name": "stdout",
     "output_type": "stream",
     "text": [
      "docking_scores.csv file created successfully!\n"
     ]
    }
   ],
   "source": [
    "data = {\n",
    "    \"Ligand\": [\"Aspirin\", \"Ibuprofen\", \"Caffeine\", \"Paracetamol\", \"Naproxen\"],\n",
    "    \"Affinity\": [-6.2, -7.1, -5.5, -6.8, -7.4]  # Simulated docking scores\n",
    "}\n",
    "\n",
    "docking_df = pd.DataFrame(data)\n",
    "\n",
    "docking_df.to_csv(\"docking_scores.csv\")\n",
    "\n",
    "print(\"docking_scores.csv file created successfully!\")"
   ]
  },
  {
   "cell_type": "code",
   "execution_count": 59,
   "id": "ce18de8d-789e-4fc0-8744-b95505ee592b",
   "metadata": {},
   "outputs": [
    {
     "name": "stdout",
     "output_type": "stream",
     "text": [
      "True\n"
     ]
    }
   ],
   "source": [
    "import os\n",
    "print(os.path.exists(\"docking_scores.csv\")) "
   ]
  },
  {
   "cell_type": "markdown",
   "id": "75c107d5-e85b-49f3-ac69-4f5a8f3ef726",
   "metadata": {},
   "source": [
    "# Load and plot"
   ]
  },
  {
   "cell_type": "code",
   "execution_count": 61,
   "id": "45e8cb6f-c727-4bd7-80df-fe2f256a6ea6",
   "metadata": {},
   "outputs": [
    {
     "name": "stdout",
     "output_type": "stream",
     "text": [
      "        Ligand  Affinity\n",
      "4     Naproxen      -7.4\n",
      "1    Ibuprofen      -7.1\n",
      "3  Paracetamol      -6.8\n",
      "0      Aspirin      -6.2\n",
      "2     Caffeine      -5.5\n"
     ]
    }
   ],
   "source": [
    "docking_df = docking_df.sort_values(\"Affinity\", ascending=True)\n",
    "print(docking_df)"
   ]
  },
  {
   "cell_type": "code",
   "execution_count": 65,
   "id": "52c1eac0-7723-41c8-a432-ad7f9a34a47a",
   "metadata": {},
   "outputs": [
    {
     "data": {
      "image/png": "[encoded data removed]",
      "text/plain": [
       "<Figure size 800x400 with 1 Axes>"
      ]
     },
     "metadata": {},
     "output_type": "display_data"
    }
   ],
   "source": [
    "plt.figure(figsize=(8, 4))  \n",
    "plt.bar(docking_df[\"Ligand\"], docking_df[\"Affinity\"], color='skyblue')  \n",
    "plt.xlabel(\"Ligand\")                     \n",
    "plt.ylabel(\"Docking Score (kcal/mol)\")  \n",
    "plt.title(\"Simulated Docking Scores\")\n",
    "plt.xticks(rotation=45)\n",
    "plt.tight_layout()  \n",
    "plt.show()"
   ]
  },
  {
   "cell_type": "markdown",
   "id": "674a299e-b40f-4283-8c73-ba1b4f4ffdbc",
   "metadata": {},
   "source": [
    "## Conclusion\n",
    "< This notebook demonstrates a practical workflow for molecular docking and ligand analysis using Python tools inside Jupyter Notebook.\n",
    "# Next steps:\n",
    "- Use AutoDock Vina for real docking simulations\n",
    "- Apply Molecular Dynamics tools like GROMACS\n",
    "- Screen larger compound libraries using automation"
   ]
  }
 ],
 "metadata": {
  "kernelspec": {
   "display_name": "Python 3 (ipykernel)",
   "language": "python",
   "name": "python3"
  },
  "language_info": {
   "codemirror_mode": {
    "name": "ipython",
    "version": 3
   },
   "file_extension": ".py",
   "mimetype": "text/x-python",
   "name": "python",
   "nbconvert_exporter": "python",
   "pygments_lexer": "ipython3",
   "version": "3.12.7"
  }
 },
 "nbformat": 4,
 "nbformat_minor": 5
}
